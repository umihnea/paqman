{
 "cells": [
  {
   "cell_type": "code",
   "execution_count": 6,
   "metadata": {},
   "outputs": [],
   "source": [
    "import pickle\n",
    "import random\n",
    "import os\n",
    "import datetime\n",
    "\n",
    "\n",
    "# The tag will determine the label displayed next to\n",
    "# the data in the plot.\n",
    "tag = \"mocka2c\"\n",
    "\n",
    "# upper and lower control the score generation\n",
    "upper = 15.0\n",
    "lower = 0.0\n",
    "num_episodes = 1000\n",
    "\n",
    "scores = []\n",
    "for _ in range(num_episodes):\n",
    "    scores.append(random.uniform(lower, upper))\n",
    "\n",
    "\n",
    "filename = \"scores_{tag}_{date}.pkl\".format(\n",
    "    tag=tag,\n",
    "    date=datetime.datetime.now().strftime(\"%d%b_%H-%M-%S\")\n",
    ")\n",
    "path = os.path.join(\"./scores\", filename)\n",
    "\n",
    "with open(path, \"wb\") as f:\n",
    "    pickle.dump(scores, f)"
   ]
  },
  {
   "cell_type": "code",
   "execution_count": null,
   "metadata": {},
   "outputs": [],
   "source": [
    "# Import the created file and unpack the results to make sure this works\n",
    "unpacked_scores = []\n",
    "with open(path, \"rb\") as f:\n",
    "    unpacked_scores = pickle.load(f)\n",
    "\n",
    "unpacked_scores"
   ]
  },
  {
   "cell_type": "code",
   "execution_count": null,
   "metadata": {},
   "outputs": [],
   "source": []
  }
 ],
 "metadata": {
  "kernelspec": {
   "display_name": "Python 3",
   "language": "python",
   "name": "python3"
  },
  "language_info": {
   "codemirror_mode": {
    "name": "ipython",
    "version": 3
   },
   "file_extension": ".py",
   "mimetype": "text/x-python",
   "name": "python",
   "nbconvert_exporter": "python",
   "pygments_lexer": "ipython3",
   "version": "3.7.8"
  }
 },
 "nbformat": 4,
 "nbformat_minor": 4
}

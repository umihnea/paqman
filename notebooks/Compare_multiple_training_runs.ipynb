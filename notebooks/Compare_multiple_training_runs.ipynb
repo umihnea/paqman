{
 "cells": [
  {
   "cell_type": "markdown",
   "metadata": {},
   "source": [
    "This notebook is for plotting scores over multiple training runs in order to compare different algorithms performance-wise or to test an algorithm against previous iterations of itself.\n",
    "Each score records file (in the form of a Python pickled list, having a '.pkl' extension) has a **tag**.\n",
    "The **tag** represents the algorithm or training run it belongs to.\n",
    "\n",
    "Training runs **share the same tag** ONLY if they use the same algorithm AND use the same set of parameters.\n",
    "If multiple files with the same tag are provided, a reward graph with variance will be computed."
   ]
  },
  {
   "cell_type": "code",
   "execution_count": null,
   "metadata": {},
   "outputs": [],
   "source": [
    "import os\n",
    "import re\n",
    "import pickle\n",
    "from collections import defaultdict\n",
    "\n",
    "\n",
    "# Path to a directory containing all .pkl files of\n",
    "# score records that we want to compare\n",
    "scores_path = \"./scores\"\n",
    "\n",
    "label_to_scores = defaultdict(list)\n",
    "\n",
    "for filename in os.listdir(scores_path):\n",
    "    # The label represents the name displayed in the plot legend to represent\n",
    "    # a specific configuration, e.g. label \"dqn1k\" is used to represent\n",
    "    # DQN trained for 1000 episodes.\n",
    "    label = re.search(r\"scores_([a-zA-Z0-9]*)_\", filename).group(1)\n",
    "    \n",
    "    path = os.path.join(scores_path, filename)\n",
    "    with open(path, \"rb\") as file:\n",
    "        scores = pickle.load(file)\n",
    "        label_to_scores[label].append(scores)\n",
    "        \n",
    "label_to_scores.keys()"
   ]
  },
  {
   "cell_type": "code",
   "execution_count": null,
   "metadata": {},
   "outputs": [],
   "source": [
    "import numpy as np\n",
    "import matplotlib.pyplot as plt\n",
    "\n",
    "from plot.plot_data import MultiRunData, SingleRunData\n",
    "\n",
    "\n",
    "smoothing_window = 200  # set as 0 for no smoothing\n",
    "\n",
    "run_data = []\n",
    "for label, scores in label_to_scores.items():\n",
    "    if len(scores) == 1:\n",
    "        run_data.append(\n",
    "            SingleRunData(scores[0], label, smoothing_window=smoothing_window)\n",
    "        )\n",
    "    elif len(scores) > 1:\n",
    "        run_data.append(\n",
    "            MultiRunData(scores, label, smoothing_window=smoothing_window)\n",
    "        )\n",
    "\n",
    "for run in run_data:\n",
    "    run.plot(plt)\n",
    "        \n",
    "plt.legend()\n",
    "plt.show()"
   ]
  }
 ],
 "metadata": {
  "kernelspec": {
   "display_name": "Python 3",
   "language": "python",
   "name": "python3"
  },
  "language_info": {
   "codemirror_mode": {
    "name": "ipython",
    "version": 3
   },
   "file_extension": ".py",
   "mimetype": "text/x-python",
   "name": "python",
   "nbconvert_exporter": "python",
   "pygments_lexer": "ipython3",
   "version": "3.7.8"
  }
 },
 "nbformat": 4,
 "nbformat_minor": 4
}

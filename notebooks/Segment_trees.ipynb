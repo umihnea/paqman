{
 "cells": [
  {
   "cell_type": "code",
   "execution_count": 1,
   "metadata": {},
   "outputs": [],
   "source": [
    "import typing\n",
    "import numpy as np\n",
    "from dataclasses import dataclass, field\n",
    "\n",
    "@dataclass\n",
    "class Node:\n",
    "    value: np.float32\n",
    "    start: int\n",
    "    end: int\n",
    "    left_child: typing.Any = field(repr=False, default=None)\n",
    "    right_child: typing.Any = field(repr=False, default=None)\n",
    "    parent: typing.Any = field(repr=False, default=None)\n",
    "        \n",
    "a = Node(98.19, 0, 0)\n",
    "b = Node(88.41, 1, 1)\n",
    "root = Node(144, 0, 1, a, b)"
   ]
  },
  {
   "cell_type": "code",
   "execution_count": 11,
   "metadata": {},
   "outputs": [],
   "source": [
    "def overlaps(x, y, A, B):\n",
    "    \"\"\"Returns true if [x, y] is completely included within [A, B].\n",
    "    \"\"\"\n",
    "    return A <= x <= y <= B\n",
    "    \n",
    "\n",
    "class SumTree:\n",
    "    def __init__(self, capacity):\n",
    "        assert capacity & (capacity - 1) == 0  # capacity must be a power of two\n",
    "        self.capacity = capacity\n",
    "        self.values = np.zeros(2 * capacity, dtype=np.int)\n",
    "        \n",
    "    \n",
    "    def _query_recursively(self, start, end, node, node_start, node_end):\n",
    "        if start == node_start and end == node_end:\n",
    "            return self.values[node]\n",
    "        \n",
    "        mid = (node_start + node_end) // 2\n",
    "        if overlaps(start, end, node_start, mid):\n",
    "            return self._query_recursively(\n",
    "                start, end, 2*node, node_start, mid\n",
    "            )\n",
    "        elif overlaps(start, end, mid + 1, node_end):\n",
    "            return self._query_recursively(\n",
    "                start, end, 2*node + 1, mid + 1, node_end\n",
    "            )\n",
    "        else:\n",
    "            # [start, end] partially overlaps both left/right children\n",
    "            return self._query_recursively(start, mid, 2*node, node_start, mid) + self._query_recursively(mid + 1, end, 2*node + 1, mid + 1, node_end)\n",
    "    \n",
    "    def query(self, start=0, end=None):\n",
    "        \"\"\"Returns the sum in the interval given by start and end.\n",
    "        \"\"\"\n",
    "        if end is None:\n",
    "            end = self.capacity - 1\n",
    "        return self._query_recursively(start, end, 1, 0, self.capacity - 1)\n",
    "    \n",
    "    def __setitem__(self, i, value):\n",
    "        adjusted_i = i + self.capacity\n",
    "        self.values[adjusted_i] = value\n",
    "        \n",
    "        # Propagate upwards\n",
    "        parent = adjusted_i // 2\n",
    "        while parent >= 1:\n",
    "            self.values[parent] = self.values[2 * parent] + self.values[2 * parent + 1]\n",
    "            parent //= 2\n",
    "    \n",
    "    def __getitem__(self, i):\n",
    "        assert 0 <= i < self.capacity\n",
    "        return self.values[i + self.capacity]\n"
   ]
  },
  {
   "cell_type": "code",
   "execution_count": 16,
   "metadata": {},
   "outputs": [
    {
     "name": "stdout",
     "output_type": "stream",
     "text": [
      "2 15 1 0 15\n",
      "2 7 2 0 7\n",
      "2 3 4 0 3\n",
      "2 3 9 2 3\n",
      "4 7 5 4 7\n",
      "8 15 3 8 15\n",
      "696\n",
      "696\n"
     ]
    }
   ],
   "source": [
    "sum_tree = SumTree(16)\n",
    "data = [np.random.randint(0, 100) for _ in range(16)]\n",
    "for i, x in enumerate(data):\n",
    "    sum_tree[i] = x\n",
    "\n",
    "def dumb_sum(data, x, y):\n",
    "    _sum = 0\n",
    "    for i in range(x, y):\n",
    "        _sum += data[i]    \n",
    "    return _sum\n",
    "\n",
    "print(sum_tree.query(2))\n",
    "print(dumb_sum(data, 2, len(data)))"
   ]
  },
  {
   "cell_type": "code",
   "execution_count": null,
   "metadata": {},
   "outputs": [],
   "source": []
  }
 ],
 "metadata": {
  "kernelspec": {
   "display_name": "Python 3",
   "language": "python",
   "name": "python3"
  },
  "language_info": {
   "codemirror_mode": {
    "name": "ipython",
    "version": 3
   },
   "file_extension": ".py",
   "mimetype": "text/x-python",
   "name": "python",
   "nbconvert_exporter": "python",
   "pygments_lexer": "ipython3",
   "version": "3.7.8"
  }
 },
 "nbformat": 4,
 "nbformat_minor": 4
}
